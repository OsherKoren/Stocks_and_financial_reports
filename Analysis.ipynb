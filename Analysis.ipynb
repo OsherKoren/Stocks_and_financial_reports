{
 "cells": [
  {
   "cell_type": "code",
   "execution_count": 1,
   "metadata": {},
   "outputs": [],
   "source": [
    "# For data\n",
    "import pandas as pd\n",
    "import numpy as np"
   ]
  },
  {
   "cell_type": "code",
   "execution_count": 2,
   "metadata": {},
   "outputs": [],
   "source": [
    "# For visualization\n",
    "import matplotlib.pyplot as plt\n",
    "import seaborn as sns\n",
    "%matplotlib inline"
   ]
  },
  {
   "cell_type": "code",
   "execution_count": 3,
   "metadata": {},
   "outputs": [],
   "source": [
    "from sklearn.preprocessing import StandardScaler\n",
    "from sklearn.decomposition import PCA\n",
    "from sklearn.linear_model import LinearRegression, LogisticRegression\n",
    "from sklearn.model_selection import train_test_split\n",
    "# from sklearn.utils import resample\n",
    "from sklearn.tree import DecisionTreeClassifier\n",
    "from sklearn.ensemble import RandomForestClassifier\n",
    "from sklearn import svm\n",
    "from sklearn.metrics import classification_report, confusion_matrix, accuracy_score, precision_score, recall_score, f1_score\n",
    "from imblearn.over_sampling import SMOTE"
   ]
  },
  {
   "cell_type": "code",
   "execution_count": 4,
   "metadata": {},
   "outputs": [],
   "source": [
    "# General\n",
    "from collections import Counter \n",
    "import warnings   # To ignore any warnings \n",
    "warnings.filterwarnings(\"ignore\")\n",
    "%config IPCompleter.greedy=True"
   ]
  },
  {
   "cell_type": "code",
   "execution_count": 23,
   "metadata": {},
   "outputs": [],
   "source": [
    "# A little bit of analysis of the data we gathered..."
   ]
  },
  {
   "cell_type": "code",
   "execution_count": 5,
   "metadata": {},
   "outputs": [
    {
     "data": {
      "text/html": [
       "<div>\n",
       "<style scoped>\n",
       "    .dataframe tbody tr th:only-of-type {\n",
       "        vertical-align: middle;\n",
       "    }\n",
       "\n",
       "    .dataframe tbody tr th {\n",
       "        vertical-align: top;\n",
       "    }\n",
       "\n",
       "    .dataframe thead th {\n",
       "        text-align: right;\n",
       "    }\n",
       "</style>\n",
       "<table border=\"1\" class=\"dataframe\">\n",
       "  <thead>\n",
       "    <tr style=\"text-align: right;\">\n",
       "      <th></th>\n",
       "      <th>Fiscal Year</th>\n",
       "      <th>Report Date</th>\n",
       "      <th>Yield until 2018</th>\n",
       "      <th>Sector</th>\n",
       "      <th>Ten Baggers</th>\n",
       "      <th>PreTaxEarnToRev</th>\n",
       "      <th>PE</th>\n",
       "      <th>P/(E+D)</th>\n",
       "      <th>P/(E+C)</th>\n",
       "      <th>P/OperCash</th>\n",
       "      <th>D/E</th>\n",
       "      <th>CashToCurrDebt</th>\n",
       "      <th>LongDebtToEq</th>\n",
       "    </tr>\n",
       "    <tr>\n",
       "      <th>Ticker</th>\n",
       "      <th></th>\n",
       "      <th></th>\n",
       "      <th></th>\n",
       "      <th></th>\n",
       "      <th></th>\n",
       "      <th></th>\n",
       "      <th></th>\n",
       "      <th></th>\n",
       "      <th></th>\n",
       "      <th></th>\n",
       "      <th></th>\n",
       "      <th></th>\n",
       "      <th></th>\n",
       "    </tr>\n",
       "  </thead>\n",
       "  <tbody>\n",
       "    <tr>\n",
       "      <th>A</th>\n",
       "      <td>2008</td>\n",
       "      <td>2008-10-31</td>\n",
       "      <td>3.222060</td>\n",
       "      <td>Healthcare</td>\n",
       "      <td>False</td>\n",
       "      <td>0.141150</td>\n",
       "      <td>7.944518</td>\n",
       "      <td>6.755277</td>\n",
       "      <td>2.453454</td>\n",
       "      <td>7.282475</td>\n",
       "      <td>1.738179</td>\n",
       "      <td>1.074436</td>\n",
       "      <td>0.558421</td>\n",
       "    </tr>\n",
       "    <tr>\n",
       "      <th>AA</th>\n",
       "      <td>2015</td>\n",
       "      <td>2015-12-31</td>\n",
       "      <td>0.126271</td>\n",
       "      <td>Basic Materials</td>\n",
       "      <td>False</td>\n",
       "      <td>0.057684</td>\n",
       "      <td>-4.977057</td>\n",
       "      <td>6.648917</td>\n",
       "      <td>3.570408</td>\n",
       "      <td>4.908800</td>\n",
       "      <td>0.425606</td>\n",
       "      <td>0.231697</td>\n",
       "      <td>0.048380</td>\n",
       "    </tr>\n",
       "    <tr>\n",
       "      <th>AAL</th>\n",
       "      <td>2009</td>\n",
       "      <td>2009-12-31</td>\n",
       "      <td>5.882598</td>\n",
       "      <td>Industrials</td>\n",
       "      <td>False</td>\n",
       "      <td>-0.087965</td>\n",
       "      <td>-0.919481</td>\n",
       "      <td>-0.770433</td>\n",
       "      <td>0.509935</td>\n",
       "      <td>1.451396</td>\n",
       "      <td>-8.290914</td>\n",
       "      <td>0.575936</td>\n",
       "      <td>-1.260820</td>\n",
       "    </tr>\n",
       "    <tr>\n",
       "      <th>AAN</th>\n",
       "      <td>2009</td>\n",
       "      <td>2009-12-31</td>\n",
       "      <td>1.815018</td>\n",
       "      <td>Industrials</td>\n",
       "      <td>False</td>\n",
       "      <td>0.100662</td>\n",
       "      <td>10.802788</td>\n",
       "      <td>6.717202</td>\n",
       "      <td>4.251320</td>\n",
       "      <td>6.280033</td>\n",
       "      <td>0.489367</td>\n",
       "      <td>0.321700</td>\n",
       "      <td>0.123622</td>\n",
       "    </tr>\n",
       "    <tr>\n",
       "      <th>AAON</th>\n",
       "      <td>2010</td>\n",
       "      <td>2010-12-31</td>\n",
       "      <td>3.429207</td>\n",
       "      <td>Industrials</td>\n",
       "      <td>False</td>\n",
       "      <td>0.133387</td>\n",
       "      <td>20.403855</td>\n",
       "      <td>10.690198</td>\n",
       "      <td>10.031258</td>\n",
       "      <td>13.894066</td>\n",
       "      <td>0.372952</td>\n",
       "      <td>0.328671</td>\n",
       "      <td>0.102048</td>\n",
       "    </tr>\n",
       "  </tbody>\n",
       "</table>\n",
       "</div>"
      ],
      "text/plain": [
       "        Fiscal Year Report Date  Yield until 2018           Sector  \\\n",
       "Ticker                                                               \n",
       "A              2008  2008-10-31          3.222060       Healthcare   \n",
       "AA             2015  2015-12-31          0.126271  Basic Materials   \n",
       "AAL            2009  2009-12-31          5.882598      Industrials   \n",
       "AAN            2009  2009-12-31          1.815018      Industrials   \n",
       "AAON           2010  2010-12-31          3.429207      Industrials   \n",
       "\n",
       "        Ten Baggers  PreTaxEarnToRev         PE    P/(E+D)    P/(E+C)  \\\n",
       "Ticker                                                                  \n",
       "A             False         0.141150   7.944518   6.755277   2.453454   \n",
       "AA            False         0.057684  -4.977057   6.648917   3.570408   \n",
       "AAL           False        -0.087965  -0.919481  -0.770433   0.509935   \n",
       "AAN           False         0.100662  10.802788   6.717202   4.251320   \n",
       "AAON          False         0.133387  20.403855  10.690198  10.031258   \n",
       "\n",
       "        P/OperCash       D/E  CashToCurrDebt  LongDebtToEq  \n",
       "Ticker                                                      \n",
       "A         7.282475  1.738179        1.074436      0.558421  \n",
       "AA        4.908800  0.425606        0.231697      0.048380  \n",
       "AAL       1.451396 -8.290914        0.575936     -1.260820  \n",
       "AAN       6.280033  0.489367        0.321700      0.123622  \n",
       "AAON     13.894066  0.372952        0.328671      0.102048  "
      ]
     },
     "execution_count": 5,
     "metadata": {},
     "output_type": "execute_result"
    }
   ],
   "source": [
    "df = pd.read_pickle('data.pkl').set_index('Ticker')\n",
    "df.head()"
   ]
  },
  {
   "cell_type": "code",
   "execution_count": 6,
   "metadata": {},
   "outputs": [],
   "source": [
    "df = df.rename(columns={'P/(E+D)':'D/(E+Div)'})"
   ]
  },
  {
   "cell_type": "code",
   "execution_count": 7,
   "metadata": {
    "scrolled": false
   },
   "outputs": [
    {
     "data": {
      "text/html": [
       "<div>\n",
       "<style scoped>\n",
       "    .dataframe tbody tr th:only-of-type {\n",
       "        vertical-align: middle;\n",
       "    }\n",
       "\n",
       "    .dataframe tbody tr th {\n",
       "        vertical-align: top;\n",
       "    }\n",
       "\n",
       "    .dataframe thead th {\n",
       "        text-align: right;\n",
       "    }\n",
       "</style>\n",
       "<table border=\"1\" class=\"dataframe\">\n",
       "  <thead>\n",
       "    <tr style=\"text-align: right;\">\n",
       "      <th></th>\n",
       "      <th>Fiscal Year</th>\n",
       "      <th>Yield until 2018</th>\n",
       "      <th>PreTaxEarnToRev</th>\n",
       "      <th>PE</th>\n",
       "      <th>D/(E+Div)</th>\n",
       "      <th>P/(E+C)</th>\n",
       "      <th>P/OperCash</th>\n",
       "      <th>D/E</th>\n",
       "      <th>CashToCurrDebt</th>\n",
       "      <th>LongDebtToEq</th>\n",
       "    </tr>\n",
       "  </thead>\n",
       "  <tbody>\n",
       "    <tr>\n",
       "      <th>count</th>\n",
       "      <td>1286.000000</td>\n",
       "      <td>1286.000000</td>\n",
       "      <td>1259.000000</td>\n",
       "      <td>1276.000000</td>\n",
       "      <td>1277.000000</td>\n",
       "      <td>1277.000000</td>\n",
       "      <td>1276.000000</td>\n",
       "      <td>1284.000000</td>\n",
       "      <td>1285.000000</td>\n",
       "      <td>1284.000000</td>\n",
       "    </tr>\n",
       "    <tr>\n",
       "      <th>mean</th>\n",
       "      <td>2010.186625</td>\n",
       "      <td>3.962073</td>\n",
       "      <td>-3.041651</td>\n",
       "      <td>1.899813</td>\n",
       "      <td>-25.086038</td>\n",
       "      <td>-72.177547</td>\n",
       "      <td>3.458668</td>\n",
       "      <td>-2.647378</td>\n",
       "      <td>1.473557</td>\n",
       "      <td>-0.123709</td>\n",
       "    </tr>\n",
       "    <tr>\n",
       "      <th>std</th>\n",
       "      <td>2.163225</td>\n",
       "      <td>62.989169</td>\n",
       "      <td>62.597301</td>\n",
       "      <td>2031.288002</td>\n",
       "      <td>1706.783557</td>\n",
       "      <td>2590.722691</td>\n",
       "      <td>5258.292429</td>\n",
       "      <td>87.815820</td>\n",
       "      <td>3.200414</td>\n",
       "      <td>11.732252</td>\n",
       "    </tr>\n",
       "    <tr>\n",
       "      <th>min</th>\n",
       "      <td>2007.000000</td>\n",
       "      <td>-0.999747</td>\n",
       "      <td>-1723.774194</td>\n",
       "      <td>-53299.122420</td>\n",
       "      <td>-51941.055625</td>\n",
       "      <td>-68709.900156</td>\n",
       "      <td>-149308.454186</td>\n",
       "      <td>-2556.419643</td>\n",
       "      <td>0.000000</td>\n",
       "      <td>-380.276786</td>\n",
       "    </tr>\n",
       "    <tr>\n",
       "      <th>25%</th>\n",
       "      <td>2009.000000</td>\n",
       "      <td>0.000000</td>\n",
       "      <td>0.018967</td>\n",
       "      <td>-0.492612</td>\n",
       "      <td>2.346890</td>\n",
       "      <td>2.351393</td>\n",
       "      <td>3.121512</td>\n",
       "      <td>0.367527</td>\n",
       "      <td>0.170607</td>\n",
       "      <td>0.074235</td>\n",
       "    </tr>\n",
       "    <tr>\n",
       "      <th>50%</th>\n",
       "      <td>2010.000000</td>\n",
       "      <td>1.180819</td>\n",
       "      <td>0.078882</td>\n",
       "      <td>10.722941</td>\n",
       "      <td>6.653270</td>\n",
       "      <td>4.165114</td>\n",
       "      <td>6.931638</td>\n",
       "      <td>0.852083</td>\n",
       "      <td>0.562388</td>\n",
       "      <td>0.238817</td>\n",
       "    </tr>\n",
       "    <tr>\n",
       "      <th>75%</th>\n",
       "      <td>2010.000000</td>\n",
       "      <td>2.922846</td>\n",
       "      <td>0.154176</td>\n",
       "      <td>20.237249</td>\n",
       "      <td>12.628867</td>\n",
       "      <td>7.177631</td>\n",
       "      <td>12.707863</td>\n",
       "      <td>1.689350</td>\n",
       "      <td>1.435604</td>\n",
       "      <td>0.527390</td>\n",
       "    </tr>\n",
       "    <tr>\n",
       "      <th>max</th>\n",
       "      <td>2018.000000</td>\n",
       "      <td>2242.964807</td>\n",
       "      <td>0.876119</td>\n",
       "      <td>23287.123947</td>\n",
       "      <td>10212.230835</td>\n",
       "      <td>10219.116353</td>\n",
       "      <td>110911.493218</td>\n",
       "      <td>177.730612</td>\n",
       "      <td>52.695820</td>\n",
       "      <td>24.856572</td>\n",
       "    </tr>\n",
       "  </tbody>\n",
       "</table>\n",
       "</div>"
      ],
      "text/plain": [
       "       Fiscal Year  Yield until 2018  PreTaxEarnToRev            PE  \\\n",
       "count  1286.000000       1286.000000      1259.000000   1276.000000   \n",
       "mean   2010.186625          3.962073        -3.041651      1.899813   \n",
       "std       2.163225         62.989169        62.597301   2031.288002   \n",
       "min    2007.000000         -0.999747     -1723.774194 -53299.122420   \n",
       "25%    2009.000000          0.000000         0.018967     -0.492612   \n",
       "50%    2010.000000          1.180819         0.078882     10.722941   \n",
       "75%    2010.000000          2.922846         0.154176     20.237249   \n",
       "max    2018.000000       2242.964807         0.876119  23287.123947   \n",
       "\n",
       "          D/(E+Div)       P/(E+C)     P/OperCash          D/E  CashToCurrDebt  \\\n",
       "count   1277.000000   1277.000000    1276.000000  1284.000000     1285.000000   \n",
       "mean     -25.086038    -72.177547       3.458668    -2.647378        1.473557   \n",
       "std     1706.783557   2590.722691    5258.292429    87.815820        3.200414   \n",
       "min   -51941.055625 -68709.900156 -149308.454186 -2556.419643        0.000000   \n",
       "25%        2.346890      2.351393       3.121512     0.367527        0.170607   \n",
       "50%        6.653270      4.165114       6.931638     0.852083        0.562388   \n",
       "75%       12.628867      7.177631      12.707863     1.689350        1.435604   \n",
       "max    10212.230835  10219.116353  110911.493218   177.730612       52.695820   \n",
       "\n",
       "       LongDebtToEq  \n",
       "count   1284.000000  \n",
       "mean      -0.123709  \n",
       "std       11.732252  \n",
       "min     -380.276786  \n",
       "25%        0.074235  \n",
       "50%        0.238817  \n",
       "75%        0.527390  \n",
       "max       24.856572  "
      ]
     },
     "execution_count": 7,
     "metadata": {},
     "output_type": "execute_result"
    }
   ],
   "source": [
    "df.describe()"
   ]
  },
  {
   "cell_type": "code",
   "execution_count": 8,
   "metadata": {
    "scrolled": true
   },
   "outputs": [
    {
     "data": {
      "text/html": [
       "<div>\n",
       "<style scoped>\n",
       "    .dataframe tbody tr th:only-of-type {\n",
       "        vertical-align: middle;\n",
       "    }\n",
       "\n",
       "    .dataframe tbody tr th {\n",
       "        vertical-align: top;\n",
       "    }\n",
       "\n",
       "    .dataframe thead th {\n",
       "        text-align: right;\n",
       "    }\n",
       "</style>\n",
       "<table border=\"1\" class=\"dataframe\">\n",
       "  <thead>\n",
       "    <tr style=\"text-align: right;\">\n",
       "      <th></th>\n",
       "      <th>Fiscal Year</th>\n",
       "      <th>Yield until 2018</th>\n",
       "      <th>PreTaxEarnToRev</th>\n",
       "      <th>PE</th>\n",
       "      <th>D/(E+Div)</th>\n",
       "      <th>P/(E+C)</th>\n",
       "      <th>P/OperCash</th>\n",
       "      <th>D/E</th>\n",
       "      <th>CashToCurrDebt</th>\n",
       "      <th>LongDebtToEq</th>\n",
       "    </tr>\n",
       "  </thead>\n",
       "  <tbody>\n",
       "    <tr>\n",
       "      <th>count</th>\n",
       "      <td>1282.000000</td>\n",
       "      <td>1282.000000</td>\n",
       "      <td>1257.000000</td>\n",
       "      <td>1272.000000</td>\n",
       "      <td>1273.000000</td>\n",
       "      <td>1273.000000</td>\n",
       "      <td>1272.000000</td>\n",
       "      <td>1280.000000</td>\n",
       "      <td>1281.000000</td>\n",
       "      <td>1280.000000</td>\n",
       "    </tr>\n",
       "    <tr>\n",
       "      <th>mean</th>\n",
       "      <td>2010.187207</td>\n",
       "      <td>2.026108</td>\n",
       "      <td>-3.046438</td>\n",
       "      <td>2.448408</td>\n",
       "      <td>-24.623339</td>\n",
       "      <td>-73.108173</td>\n",
       "      <td>4.168278</td>\n",
       "      <td>-2.681376</td>\n",
       "      <td>1.471110</td>\n",
       "      <td>-0.128804</td>\n",
       "    </tr>\n",
       "    <tr>\n",
       "      <th>std</th>\n",
       "      <td>2.166574</td>\n",
       "      <td>3.589162</td>\n",
       "      <td>62.647004</td>\n",
       "      <td>2034.388088</td>\n",
       "      <td>1709.363601</td>\n",
       "      <td>2594.646528</td>\n",
       "      <td>5266.501681</td>\n",
       "      <td>87.946673</td>\n",
       "      <td>3.200237</td>\n",
       "      <td>11.749648</td>\n",
       "    </tr>\n",
       "    <tr>\n",
       "      <th>min</th>\n",
       "      <td>2007.000000</td>\n",
       "      <td>-0.998667</td>\n",
       "      <td>-1723.774194</td>\n",
       "      <td>-53299.122420</td>\n",
       "      <td>-51941.055625</td>\n",
       "      <td>-68709.900156</td>\n",
       "      <td>-149308.454186</td>\n",
       "      <td>-2556.419643</td>\n",
       "      <td>0.000000</td>\n",
       "      <td>-380.276786</td>\n",
       "    </tr>\n",
       "    <tr>\n",
       "      <th>25%</th>\n",
       "      <td>2009.000000</td>\n",
       "      <td>0.000000</td>\n",
       "      <td>0.019001</td>\n",
       "      <td>-0.431226</td>\n",
       "      <td>2.416212</td>\n",
       "      <td>2.361885</td>\n",
       "      <td>3.129749</td>\n",
       "      <td>0.370819</td>\n",
       "      <td>0.170607</td>\n",
       "      <td>0.074235</td>\n",
       "    </tr>\n",
       "    <tr>\n",
       "      <th>50%</th>\n",
       "      <td>2010.000000</td>\n",
       "      <td>1.180819</td>\n",
       "      <td>0.079490</td>\n",
       "      <td>10.758676</td>\n",
       "      <td>6.661575</td>\n",
       "      <td>4.176638</td>\n",
       "      <td>6.957798</td>\n",
       "      <td>0.853801</td>\n",
       "      <td>0.562388</td>\n",
       "      <td>0.238817</td>\n",
       "    </tr>\n",
       "    <tr>\n",
       "      <th>75%</th>\n",
       "      <td>2010.000000</td>\n",
       "      <td>2.904195</td>\n",
       "      <td>0.154304</td>\n",
       "      <td>20.261463</td>\n",
       "      <td>12.634173</td>\n",
       "      <td>7.177631</td>\n",
       "      <td>12.719013</td>\n",
       "      <td>1.689350</td>\n",
       "      <td>1.435604</td>\n",
       "      <td>0.526858</td>\n",
       "    </tr>\n",
       "    <tr>\n",
       "      <th>max</th>\n",
       "      <td>2018.000000</td>\n",
       "      <td>64.374045</td>\n",
       "      <td>0.876119</td>\n",
       "      <td>23287.123947</td>\n",
       "      <td>10212.230835</td>\n",
       "      <td>10219.116353</td>\n",
       "      <td>110911.493218</td>\n",
       "      <td>177.730612</td>\n",
       "      <td>52.695820</td>\n",
       "      <td>24.856572</td>\n",
       "    </tr>\n",
       "  </tbody>\n",
       "</table>\n",
       "</div>"
      ],
      "text/plain": [
       "       Fiscal Year  Yield until 2018  PreTaxEarnToRev            PE  \\\n",
       "count  1282.000000       1282.000000      1257.000000   1272.000000   \n",
       "mean   2010.187207          2.026108        -3.046438      2.448408   \n",
       "std       2.166574          3.589162        62.647004   2034.388088   \n",
       "min    2007.000000         -0.998667     -1723.774194 -53299.122420   \n",
       "25%    2009.000000          0.000000         0.019001     -0.431226   \n",
       "50%    2010.000000          1.180819         0.079490     10.758676   \n",
       "75%    2010.000000          2.904195         0.154304     20.261463   \n",
       "max    2018.000000         64.374045         0.876119  23287.123947   \n",
       "\n",
       "          D/(E+Div)       P/(E+C)     P/OperCash          D/E  CashToCurrDebt  \\\n",
       "count   1273.000000   1273.000000    1272.000000  1280.000000     1281.000000   \n",
       "mean     -24.623339    -73.108173       4.168278    -2.681376        1.471110   \n",
       "std     1709.363601   2594.646528    5266.501681    87.946673        3.200237   \n",
       "min   -51941.055625 -68709.900156 -149308.454186 -2556.419643        0.000000   \n",
       "25%        2.416212      2.361885       3.129749     0.370819        0.170607   \n",
       "50%        6.661575      4.176638       6.957798     0.853801        0.562388   \n",
       "75%       12.634173      7.177631      12.719013     1.689350        1.435604   \n",
       "max    10212.230835  10219.116353  110911.493218   177.730612       52.695820   \n",
       "\n",
       "       LongDebtToEq  \n",
       "count   1280.000000  \n",
       "mean      -0.128804  \n",
       "std       11.749648  \n",
       "min     -380.276786  \n",
       "25%        0.074235  \n",
       "50%        0.238817  \n",
       "75%        0.526858  \n",
       "max       24.856572  "
      ]
     },
     "execution_count": 8,
     "metadata": {},
     "output_type": "execute_result"
    }
   ],
   "source": [
    "df = df.drop(df['Yield until 2018'].nlargest(2).index) # drop the two highest values\n",
    "df = df.drop(df['Yield until 2018'].nsmallest(2).index) # drop the two lowes values\n",
    "df.describe()"
   ]
  },
  {
   "cell_type": "code",
   "execution_count": 9,
   "metadata": {},
   "outputs": [
    {
     "data": {
      "text/plain": [
       "<AxesSubplot:xlabel='Yield until 2018'>"
      ]
     },
     "execution_count": 9,
     "metadata": {},
     "output_type": "execute_result"
    },
    {
     "data": {
      "image/png": "[encoded data removed]",
      "text/plain": [
       "<Figure size 720x432 with 1 Axes>"
      ]
     },
     "metadata": {
      "needs_background": "light"
     },
     "output_type": "display_data"
    }
   ],
   "source": [
    "fig = plt.figure(figsize=(10,6))\n",
    "sns.distplot(df['Yield until 2018'], color='darkcyan')"
   ]
  },
  {
   "cell_type": "code",
   "execution_count": 10,
   "metadata": {},
   "outputs": [],
   "source": [
    "# The majority of returns are up to 400%. Less than 5% reach a high return - above 500%."
   ]
  },
  {
   "cell_type": "code",
   "execution_count": 11,
   "metadata": {
    "scrolled": true
   },
   "outputs": [
    {
     "data": {
      "text/plain": [
       "Fiscal Year          0\n",
       "Report Date          0\n",
       "Yield until 2018     0\n",
       "Sector               0\n",
       "Ten Baggers          0\n",
       "PreTaxEarnToRev     25\n",
       "PE                  10\n",
       "D/(E+Div)            9\n",
       "P/(E+C)              9\n",
       "P/OperCash          10\n",
       "D/E                  2\n",
       "CashToCurrDebt       1\n",
       "LongDebtToEq         2\n",
       "dtype: int64"
      ]
     },
     "execution_count": 11,
     "metadata": {},
     "output_type": "execute_result"
    }
   ],
   "source": [
    "df.isnull().sum()"
   ]
  },
  {
   "cell_type": "code",
   "execution_count": 12,
   "metadata": {},
   "outputs": [
    {
     "data": {
      "text/plain": [
       "Fiscal Year         0\n",
       "Report Date         0\n",
       "Yield until 2018    0\n",
       "Sector              0\n",
       "Ten Baggers         0\n",
       "PreTaxEarnToRev     0\n",
       "PE                  0\n",
       "D/(E+Div)           0\n",
       "P/(E+C)             0\n",
       "P/OperCash          0\n",
       "D/E                 0\n",
       "CashToCurrDebt      0\n",
       "LongDebtToEq        0\n",
       "dtype: int64"
      ]
     },
     "execution_count": 12,
     "metadata": {},
     "output_type": "execute_result"
    }
   ],
   "source": [
    "df = df.dropna()\n",
    "df = df[df['Sector'] != 'Null']\n",
    "df.isnull().sum()"
   ]
  },
  {
   "cell_type": "code",
   "execution_count": 13,
   "metadata": {
    "scrolled": true
   },
   "outputs": [
    {
     "data": {
      "text/plain": [
       "Text(0.5, 1.0, 'Yield until 2018')"
      ]
     },
     "execution_count": 13,
     "metadata": {},
     "output_type": "execute_result"
    },
    {
     "data": {
      "image/png": "[encoded data removed]",
      "text/plain": [
       "<Figure size 864x288 with 1 Axes>"
      ]
     },
     "metadata": {
      "needs_background": "light"
     },
     "output_type": "display_data"
    }
   ],
   "source": [
    "fig = plt.figure(figsize=(12,4))\n",
    "plt.scatter(x=df.index, y=df['Yield until 2018'], color='darkcyan')\n",
    "plt.xticks([], [])\n",
    "plt.title('Yield until 2018')"
   ]
  },
  {
   "cell_type": "code",
   "execution_count": 14,
   "metadata": {},
   "outputs": [
    {
     "data": {
      "text/plain": [
       "False    1162\n",
       "True       25\n",
       "Name: Ten Baggers, dtype: int64"
      ]
     },
     "execution_count": 14,
     "metadata": {},
     "output_type": "execute_result"
    }
   ],
   "source": [
    "df['Ten Baggers'].value_counts()"
   ]
  },
  {
   "cell_type": "code",
   "execution_count": 15,
   "metadata": {
    "scrolled": true
   },
   "outputs": [
    {
     "data": {
      "text/plain": [
       "Text(0.5, 1.0, 'Distribution Of Data By Ten Baggers :')"
      ]
     },
     "execution_count": 15,
     "metadata": {},
     "output_type": "execute_result"
    },
    {
     "data": {
      "image/png": "[encoded data removed]",
      "text/plain": [
       "<Figure size 432x288 with 1 Axes>"
      ]
     },
     "metadata": {
      "needs_background": "light"
     },
     "output_type": "display_data"
    }
   ],
   "source": [
    "fig = plt.figure(figsize = (6,4))\n",
    "sns.countplot(x='Ten Baggers', data=df, palette=['#8c510a','#01665e'])\n",
    "plt.title('Distribution Of Data By Ten Baggers :')"
   ]
  },
  {
   "cell_type": "code",
   "execution_count": 16,
   "metadata": {},
   "outputs": [
    {
     "name": "stdout",
     "output_type": "stream",
     "text": [
      "<class 'pandas.core.frame.DataFrame'>\n",
      "Index: 1187 entries, A to ZYXI\n",
      "Data columns (total 13 columns):\n",
      " #   Column            Non-Null Count  Dtype         \n",
      "---  ------            --------------  -----         \n",
      " 0   Fiscal Year       1187 non-null   int64         \n",
      " 1   Report Date       1187 non-null   datetime64[ns]\n",
      " 2   Yield until 2018  1187 non-null   float64       \n",
      " 3   Sector            1187 non-null   object        \n",
      " 4   Ten Baggers       1187 non-null   bool          \n",
      " 5   PreTaxEarnToRev   1187 non-null   float64       \n",
      " 6   PE                1187 non-null   float64       \n",
      " 7   D/(E+Div)         1187 non-null   float64       \n",
      " 8   P/(E+C)           1187 non-null   float64       \n",
      " 9   P/OperCash        1187 non-null   float64       \n",
      " 10  D/E               1187 non-null   float64       \n",
      " 11  CashToCurrDebt    1187 non-null   float64       \n",
      " 12  LongDebtToEq      1187 non-null   float64       \n",
      "dtypes: bool(1), datetime64[ns](1), float64(9), int64(1), object(1)\n",
      "memory usage: 161.7+ KB\n"
     ]
    }
   ],
   "source": [
    "df.info()"
   ]
  },
  {
   "cell_type": "code",
   "execution_count": 17,
   "metadata": {
    "scrolled": true
   },
   "outputs": [
    {
     "data": {
      "text/html": [
       "<div>\n",
       "<style scoped>\n",
       "    .dataframe tbody tr th:only-of-type {\n",
       "        vertical-align: middle;\n",
       "    }\n",
       "\n",
       "    .dataframe tbody tr th {\n",
       "        vertical-align: top;\n",
       "    }\n",
       "\n",
       "    .dataframe thead th {\n",
       "        text-align: right;\n",
       "    }\n",
       "</style>\n",
       "<table border=\"1\" class=\"dataframe\">\n",
       "  <thead>\n",
       "    <tr style=\"text-align: right;\">\n",
       "      <th></th>\n",
       "      <th>Yield until 2018</th>\n",
       "      <th>Ten Baggers</th>\n",
       "      <th>PreTaxEarnToRev</th>\n",
       "      <th>PE</th>\n",
       "      <th>D/(E+Div)</th>\n",
       "      <th>P/(E+C)</th>\n",
       "      <th>P/OperCash</th>\n",
       "      <th>D/E</th>\n",
       "      <th>CashToCurrDebt</th>\n",
       "      <th>LongDebtToEq</th>\n",
       "    </tr>\n",
       "    <tr>\n",
       "      <th>Ticker</th>\n",
       "      <th></th>\n",
       "      <th></th>\n",
       "      <th></th>\n",
       "      <th></th>\n",
       "      <th></th>\n",
       "      <th></th>\n",
       "      <th></th>\n",
       "      <th></th>\n",
       "      <th></th>\n",
       "      <th></th>\n",
       "    </tr>\n",
       "  </thead>\n",
       "  <tbody>\n",
       "    <tr>\n",
       "      <th>A</th>\n",
       "      <td>3.222060</td>\n",
       "      <td>False</td>\n",
       "      <td>0.141150</td>\n",
       "      <td>7.944518</td>\n",
       "      <td>6.755277</td>\n",
       "      <td>2.453454</td>\n",
       "      <td>7.282475</td>\n",
       "      <td>1.738179</td>\n",
       "      <td>1.074436</td>\n",
       "      <td>0.558421</td>\n",
       "    </tr>\n",
       "    <tr>\n",
       "      <th>AA</th>\n",
       "      <td>0.126271</td>\n",
       "      <td>False</td>\n",
       "      <td>0.057684</td>\n",
       "      <td>-4.977057</td>\n",
       "      <td>6.648917</td>\n",
       "      <td>3.570408</td>\n",
       "      <td>4.908800</td>\n",
       "      <td>0.425606</td>\n",
       "      <td>0.231697</td>\n",
       "      <td>0.048380</td>\n",
       "    </tr>\n",
       "    <tr>\n",
       "      <th>AAL</th>\n",
       "      <td>5.882598</td>\n",
       "      <td>False</td>\n",
       "      <td>-0.087965</td>\n",
       "      <td>-0.919481</td>\n",
       "      <td>-0.770433</td>\n",
       "      <td>0.509935</td>\n",
       "      <td>1.451396</td>\n",
       "      <td>-8.290914</td>\n",
       "      <td>0.575936</td>\n",
       "      <td>-1.260820</td>\n",
       "    </tr>\n",
       "    <tr>\n",
       "      <th>AAN</th>\n",
       "      <td>1.815018</td>\n",
       "      <td>False</td>\n",
       "      <td>0.100662</td>\n",
       "      <td>10.802788</td>\n",
       "      <td>6.717202</td>\n",
       "      <td>4.251320</td>\n",
       "      <td>6.280033</td>\n",
       "      <td>0.489367</td>\n",
       "      <td>0.321700</td>\n",
       "      <td>0.123622</td>\n",
       "    </tr>\n",
       "    <tr>\n",
       "      <th>AAON</th>\n",
       "      <td>3.429207</td>\n",
       "      <td>False</td>\n",
       "      <td>0.133387</td>\n",
       "      <td>20.403855</td>\n",
       "      <td>10.690198</td>\n",
       "      <td>10.031258</td>\n",
       "      <td>13.894066</td>\n",
       "      <td>0.372952</td>\n",
       "      <td>0.328671</td>\n",
       "      <td>0.102048</td>\n",
       "    </tr>\n",
       "  </tbody>\n",
       "</table>\n",
       "</div>"
      ],
      "text/plain": [
       "        Yield until 2018  Ten Baggers  PreTaxEarnToRev         PE  D/(E+Div)  \\\n",
       "Ticker                                                                         \n",
       "A               3.222060        False         0.141150   7.944518   6.755277   \n",
       "AA              0.126271        False         0.057684  -4.977057   6.648917   \n",
       "AAL             5.882598        False        -0.087965  -0.919481  -0.770433   \n",
       "AAN             1.815018        False         0.100662  10.802788   6.717202   \n",
       "AAON            3.429207        False         0.133387  20.403855  10.690198   \n",
       "\n",
       "          P/(E+C)  P/OperCash       D/E  CashToCurrDebt  LongDebtToEq  \n",
       "Ticker                                                                 \n",
       "A        2.453454    7.282475  1.738179        1.074436      0.558421  \n",
       "AA       3.570408    4.908800  0.425606        0.231697      0.048380  \n",
       "AAL      0.509935    1.451396 -8.290914        0.575936     -1.260820  \n",
       "AAN      4.251320    6.280033  0.489367        0.321700      0.123622  \n",
       "AAON    10.031258   13.894066  0.372952        0.328671      0.102048  "
      ]
     },
     "execution_count": 17,
     "metadata": {},
     "output_type": "execute_result"
    }
   ],
   "source": [
    "numData = df.drop(['Report Date','Fiscal Year', 'Sector'], axis=1)\n",
    "numData.head()"
   ]
  },
  {
   "cell_type": "code",
   "execution_count": 18,
   "metadata": {
    "scrolled": true
   },
   "outputs": [
    {
     "data": {
      "text/plain": [
       "Text(0.5, 1.0, 'Correlation Plot')"
      ]
     },
     "execution_count": 18,
     "metadata": {},
     "output_type": "execute_result"
    },
    {
     "data": {
      "image/png": "[encoded data removed]",
      "text/plain": [
       "<Figure size 576x432 with 2 Axes>"
      ]
     },
     "metadata": {
      "needs_background": "light"
     },
     "output_type": "display_data"
    }
   ],
   "source": [
    "fig = plt.figure(figsize=(8,6))\n",
    "corr = numData.corr()\n",
    "sns.heatmap(corr, cmap=\"BrBG\")\n",
    "plt.title('Correlation Plot')"
   ]
  },
  {
   "cell_type": "code",
   "execution_count": 19,
   "metadata": {},
   "outputs": [],
   "source": [
    "# Obviously, the 'Ten Baggers' values and the 'yield until 2018' values are correlated.That's not interesting. \n",
    "# Other parameters also correlate between them. \n",
    "# The correlation plot doesn't present any interesting insight..."
   ]
  },
  {
   "cell_type": "code",
   "execution_count": 20,
   "metadata": {
    "scrolled": true
   },
   "outputs": [
    {
     "data": {
      "text/html": [
       "<div>\n",
       "<style scoped>\n",
       "    .dataframe tbody tr th:only-of-type {\n",
       "        vertical-align: middle;\n",
       "    }\n",
       "\n",
       "    .dataframe tbody tr th {\n",
       "        vertical-align: top;\n",
       "    }\n",
       "\n",
       "    .dataframe thead th {\n",
       "        text-align: right;\n",
       "    }\n",
       "</style>\n",
       "<table border=\"1\" class=\"dataframe\">\n",
       "  <thead>\n",
       "    <tr style=\"text-align: right;\">\n",
       "      <th></th>\n",
       "      <th>Yield until 2018</th>\n",
       "    </tr>\n",
       "    <tr>\n",
       "      <th>Sector</th>\n",
       "      <th></th>\n",
       "    </tr>\n",
       "  </thead>\n",
       "  <tbody>\n",
       "    <tr>\n",
       "      <th>Healthcare</th>\n",
       "      <td>4.310564</td>\n",
       "    </tr>\n",
       "    <tr>\n",
       "      <th>Financial Services</th>\n",
       "      <td>4.306960</td>\n",
       "    </tr>\n",
       "    <tr>\n",
       "      <th>Technology</th>\n",
       "      <td>4.008898</td>\n",
       "    </tr>\n",
       "    <tr>\n",
       "      <th>Consumer Cyclical</th>\n",
       "      <td>3.564237</td>\n",
       "    </tr>\n",
       "    <tr>\n",
       "      <th>Industrials</th>\n",
       "      <td>3.473225</td>\n",
       "    </tr>\n",
       "    <tr>\n",
       "      <th>Consumer Defensive</th>\n",
       "      <td>3.275007</td>\n",
       "    </tr>\n",
       "    <tr>\n",
       "      <th>Communication Services</th>\n",
       "      <td>3.135810</td>\n",
       "    </tr>\n",
       "    <tr>\n",
       "      <th>Utilities</th>\n",
       "      <td>3.105584</td>\n",
       "    </tr>\n",
       "    <tr>\n",
       "      <th>Basic Materials</th>\n",
       "      <td>2.858171</td>\n",
       "    </tr>\n",
       "    <tr>\n",
       "      <th>Real Estate</th>\n",
       "      <td>2.671550</td>\n",
       "    </tr>\n",
       "    <tr>\n",
       "      <th>Energy</th>\n",
       "      <td>1.316753</td>\n",
       "    </tr>\n",
       "    <tr>\n",
       "      <th>Services</th>\n",
       "      <td>0.523830</td>\n",
       "    </tr>\n",
       "    <tr>\n",
       "      <th>Financial</th>\n",
       "      <td>0.360567</td>\n",
       "    </tr>\n",
       "  </tbody>\n",
       "</table>\n",
       "</div>"
      ],
      "text/plain": [
       "                        Yield until 2018\n",
       "Sector                                  \n",
       "Healthcare                      4.310564\n",
       "Financial Services              4.306960\n",
       "Technology                      4.008898\n",
       "Consumer Cyclical               3.564237\n",
       "Industrials                     3.473225\n",
       "Consumer Defensive              3.275007\n",
       "Communication Services          3.135810\n",
       "Utilities                       3.105584\n",
       "Basic Materials                 2.858171\n",
       "Real Estate                     2.671550\n",
       "Energy                          1.316753\n",
       "Services                        0.523830\n",
       "Financial                       0.360567"
      ]
     },
     "execution_count": 20,
     "metadata": {},
     "output_type": "execute_result"
    }
   ],
   "source": [
    "sector = df[['Sector', 'Yield until 2018']].groupby('Sector').quantile(0.8)\n",
    "sector = sector.sort_values('Yield until 2018', ascending=False)\n",
    "sector"
   ]
  },
  {
   "cell_type": "code",
   "execution_count": 21,
   "metadata": {
    "scrolled": false
   },
   "outputs": [
    {
     "data": {
      "text/plain": [
       "<AxesSubplot:ylabel='Sector'>"
      ]
     },
     "execution_count": 21,
     "metadata": {},
     "output_type": "execute_result"
    },
    {
     "data": {
      "text/plain": [
       "<Figure size 720x720 with 0 Axes>"
      ]
     },
     "metadata": {},
     "output_type": "display_data"
    },
    {
     "data": {
      "image/png": "[encoded data removed]",
      "text/plain": [
       "<Figure size 432x288 with 1 Axes>"
      ]
     },
     "metadata": {
      "needs_background": "light"
     },
     "output_type": "display_data"
    }
   ],
   "source": [
    "fig = plt.figure(figsize=(10,10))\n",
    "sector.plot.barh(y='Yield until 2018', color='#01665e')"
   ]
  },
  {
   "cell_type": "code",
   "execution_count": 22,
   "metadata": {},
   "outputs": [],
   "source": [
    "# The top 3 sectors that led in return the last decade were: Technology, Financial Services, and Healthcare"
   ]
  }
 ],
 "metadata": {
  "kernelspec": {
   "display_name": "Python 3",
   "language": "python",
   "name": "python3"
  },
  "language_info": {
   "codemirror_mode": {
    "name": "ipython",
    "version": 3
   },
   "file_extension": ".py",
   "mimetype": "text/x-python",
   "name": "python",
   "nbconvert_exporter": "python",
   "pygments_lexer": "ipython3",
   "version": "3.8.5"
  }
 },
 "nbformat": 4,
 "nbformat_minor": 4
}
